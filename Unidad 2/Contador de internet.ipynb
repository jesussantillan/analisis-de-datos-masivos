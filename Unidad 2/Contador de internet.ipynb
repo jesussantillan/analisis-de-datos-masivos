{
 "cells": [
  {
   "cell_type": "markdown",
   "metadata": {},
   "source": [
    "![](unnamed.png)\n",
    "<div style = \"text-align: center\">\n",
    "\n",
    "# Analisis de datos masivos\n",
    "## introduccion a las series en pandas\n",
    "\n",
    "## Nombre Del Docente\n",
    "### Jose Gabriel Rodriguez Rivas\n",
    "\n",
    "## Nombre Del Alumno\n",
    "### Jesus Antonio Santillan Cepeda\n",
    "\n",
    "</div>"
   ]
  },
  {
   "cell_type": "markdown",
   "metadata": {},
   "source": [
    "# Parte uno"
   ]
  },
  {
   "cell_type": "code",
   "execution_count": 1,
   "metadata": {},
   "outputs": [],
   "source": [
    "import datetime\n",
    "import csv\n",
    "import subprocess"
   ]
  },
  {
   "cell_type": "code",
   "execution_count": 2,
   "metadata": {
    "tags": []
   },
   "outputs": [
    {
     "name": "stdout",
     "output_type": "stream",
     "text": [
      "2020-07-23 09:19:37.549052 <class 'datetime.datetime'>\n"
     ]
    }
   ],
   "source": [
    "date_time = datetime.datetime.now()\n",
    "print(date_time, type(date_time))"
   ]
  },
  {
   "cell_type": "code",
   "execution_count": 3,
   "metadata": {},
   "outputs": [
    {
     "data": {
      "text/plain": [
       "'Thu, 23 Jul 2020 09:19:37'"
      ]
     },
     "execution_count": 3,
     "metadata": {},
     "output_type": "execute_result"
    }
   ],
   "source": [
    "date_time.strftime('%a, %d %b %Y %H:%M:%S')"
   ]
  },
  {
   "cell_type": "code",
   "execution_count": 4,
   "metadata": {},
   "outputs": [],
   "source": [
    "speedtest_cmd = \"speedtest-cli --simple\"\n",
    "\n",
    "process = subprocess.Popen(speedtest_cmd.split(), stdout=subprocess.PIPE)\n",
    "\n",
    "process_output = process.communicate()[0]"
   ]
  },
  {
   "cell_type": "code",
   "execution_count": 5,
   "metadata": {
    "tags": []
   },
   "outputs": [
    {
     "name": "stdout",
     "output_type": "stream",
     "text": [
      "b'Ping: 23.639 ms\\r\\nDownload: 22.59 Mbit/s\\r\\nUpload: 4.92 Mbit/s\\r\\n' <class 'bytes'>\n"
     ]
    }
   ],
   "source": [
    "print(process_output, type(process_output))"
   ]
  },
  {
   "cell_type": "code",
   "execution_count": 6,
   "metadata": {
    "tags": []
   },
   "outputs": [
    {
     "name": "stdout",
     "output_type": "stream",
     "text": [
      "['Ping:', '23.639', 'ms', 'Download:', '22.59', 'Mbit/s', 'Upload:', '4.92', 'Mbit/s', '2020-07-23 09:20:27'] <class 'list'>\n"
     ]
    }
   ],
   "source": [
    "date_time = datetime.datetime.now().strftime(\"%Y-%m-%d %H:%M:%S\")\n",
    "process_output = process_output.decode()\n",
    "process_output = process_output.split()\n",
    "process_output.append(date_time)\n",
    "print(process_output, type(process_output))"
   ]
  },
  {
   "cell_type": "code",
   "execution_count": 7,
   "metadata": {},
   "outputs": [],
   "source": [
    "def speedtest():\n",
    "    \n",
    "    date_time = datetime.datetime.now().strftime(\"%Y-%m-%d %H:%M:%S\")\n",
    "    \n",
    "    speedtest_cmd = \"speedtest-cli --simple\"\n",
    "     \n",
    "    process = subprocess.Popen(speedtest_cmd.split(), stdout=subprocess.PIPE)\n",
    "    process_output = process.communicate()[0]\n",
    "    process_output = process_output.decode()\n",
    "    process_output = process_output.split()\n",
    "     \n",
    "    process_output.append(date_time)\n",
    "    \n",
    "    return process_output"
   ]
  },
  {
   "cell_type": "code",
   "execution_count": 8,
   "metadata": {},
   "outputs": [
    {
     "data": {
      "text/plain": [
       "['Ping:',\n",
       " '23.639',\n",
       " 'ms',\n",
       " 'Download:',\n",
       " '22.59',\n",
       " 'Mbit/s',\n",
       " 'Upload:',\n",
       " '4.92',\n",
       " 'Mbit/s',\n",
       " '2020-07-23 09:20:27']"
      ]
     },
     "execution_count": 8,
     "metadata": {},
     "output_type": "execute_result"
    }
   ],
   "source": [
    "process_output"
   ]
  },
  {
   "cell_type": "code",
   "execution_count": 9,
   "metadata": {},
   "outputs": [],
   "source": [
    "with open(\"test.txt\",'w') as f:\n",
    "    f.write('test_msg')"
   ]
  },
  {
   "cell_type": "code",
   "execution_count": 10,
   "metadata": {
    "tags": []
   },
   "outputs": [
    {
     "name": "stdout",
     "output_type": "stream",
     "text": [
      "test_msg\n"
     ]
    }
   ],
   "source": [
    "with open(\"test.txt\",'r') as f:\n",
    "    str = f.read()\n",
    "print(str)"
   ]
  },
  {
   "cell_type": "code",
   "execution_count": 11,
   "metadata": {},
   "outputs": [],
   "source": [
    "def save_to_csv(data, filename):\n",
    "    try:\n",
    "        with open(filename + '.csv', 'a') as f:\n",
    "\n",
    "            wr = csv.writer(f)\n",
    "\n",
    "            wr.writerow(data)\n",
    "    except:\n",
    "        with open(filename + '.csv', 'w') as f:\n",
    "\n",
    "            wr = csv.writer(f)\n",
    "\n",
    "            wr.writerow(data)"
   ]
  },
  {
   "cell_type": "code",
   "execution_count": 12,
   "metadata": {},
   "outputs": [],
   "source": [
    "def print_from_csv(filename): \n",
    "    with open(filename + '.csv', 'r') as f:\n",
    "        re = csv.reader(f)\n",
    "        for row in re:\n",
    "            print(row)"
   ]
  },
  {
   "cell_type": "code",
   "execution_count": 13,
   "metadata": {
    "tags": []
   },
   "outputs": [
    {
     "name": "stdout",
     "output_type": "stream",
     "text": [
      "Test number 0\n",
      "['Ping:', '17.822', 'ms', 'Download:', '21.88', 'Mbit/s', 'Upload:', '4.73', 'Mbit/s', '2020-07-23 09:21:44']\n",
      "Test number 1\n",
      "['Ping:', '19.694', 'ms', 'Download:', '22.58', 'Mbit/s', 'Upload:', '4.65', 'Mbit/s', '2020-07-23 09:22:12']\n",
      "Test number 2\n",
      "['Ping:', '22.307', 'ms', 'Download:', '22.59', 'Mbit/s', 'Upload:', '5.10', 'Mbit/s', '2020-07-23 09:22:40']\n",
      "Test number 3\n",
      "['Ping:', '19.35', 'ms', 'Download:', '22.58', 'Mbit/s', 'Upload:', '4.51', 'Mbit/s', '2020-07-23 09:23:07']\n",
      "Test number 4\n",
      "['Ping:', '19.068', 'ms', 'Download:', '22.31', 'Mbit/s', 'Upload:', '4.50', 'Mbit/s', '2020-07-23 09:23:33']\n",
      "Test number 5\n",
      "['Ping:', '20.949', 'ms', 'Download:', '21.99', 'Mbit/s', 'Upload:', '4.70', 'Mbit/s', '2020-07-23 09:24:00']\n",
      "Test number 6\n",
      "['Ping:', '23.061', 'ms', 'Download:', '22.04', 'Mbit/s', 'Upload:', '5.04', 'Mbit/s', '2020-07-23 09:24:28']\n",
      "Test number 7\n",
      "['Ping:', '22.86', 'ms', 'Download:', '21.54', 'Mbit/s', 'Upload:', '4.72', 'Mbit/s', '2020-07-23 09:24:55']\n",
      "Test number 8\n",
      "['Ping:', '21.109', 'ms', 'Download:', '21.92', 'Mbit/s', 'Upload:', '4.74', 'Mbit/s', '2020-07-23 09:25:22']\n",
      "Test number 9\n",
      "['Ping:', '90.168', 'ms', 'Download:', '17.44', 'Mbit/s', 'Upload:', '4.91', 'Mbit/s', '2020-07-23 09:25:49']\n"
     ]
    }
   ],
   "source": [
    "for i in range(10):\n",
    "\n",
    "    speedtest_output = speedtest()\n",
    "\n",
    "    print('Test number {}'.format(i))\n",
    "    print(speedtest_output)\n",
    "    \n",
    "    save_to_csv(speedtest_output, 'rpi_data_test')"
   ]
  },
  {
   "cell_type": "code",
   "execution_count": 17,
   "metadata": {
    "tags": []
   },
   "outputs": [
    {
     "name": "stdout",
     "output_type": "stream",
     "text": [
      "[\"b'Ping:'\", \"b'20.891'\", \"b'ms'\", \"b'Download:'\", \"b'22.31'\", \"b'Mbit/s'\", \"b'Upload:'\", \"b'4.63'\", \"b'Mbit/s'\", '2020-07-22 08:36:19']\n",
      "[]\n",
      "[\"b'Ping:'\", \"b'25.562'\", \"b'ms'\", \"b'Download:'\", \"b'22.00'\", \"b'Mbit/s'\", \"b'Upload:'\", \"b'4.87'\", \"b'Mbit/s'\", '2020-07-22 08:36:46']\n",
      "[]\n",
      "[\"b'Ping:'\", \"b'21.392'\", \"b'ms'\", \"b'Download:'\", \"b'21.29'\", \"b'Mbit/s'\", \"b'Upload:'\", \"b'4.75'\", \"b'Mbit/s'\", '2020-07-22 08:37:13']\n",
      "[]\n",
      "[\"b'Ping:'\", \"b'19.296'\", \"b'ms'\", \"b'Download:'\", \"b'22.10'\", \"b'Mbit/s'\", \"b'Upload:'\", \"b'4.98'\", \"b'Mbit/s'\", '2020-07-22 08:37:40']\n",
      "[]\n",
      "[\"b'Ping:'\", \"b'23.847'\", \"b'ms'\", \"b'Download:'\", \"b'21.94'\", \"b'Mbit/s'\", \"b'Upload:'\", \"b'4.92'\", \"b'Mbit/s'\", '2020-07-22 08:38:07']\n",
      "[]\n",
      "[\"b'Ping:'\", \"b'19.509'\", \"b'ms'\", \"b'Download:'\", \"b'22.36'\", \"b'Mbit/s'\", \"b'Upload:'\", \"b'4.51'\", \"b'Mbit/s'\", '2020-07-22 08:40:23']\n",
      "[]\n",
      "[\"b'Ping:'\", \"b'19.779'\", \"b'ms'\", \"b'Download:'\", \"b'21.74'\", \"b'Mbit/s'\", \"b'Upload:'\", \"b'4.73'\", \"b'Mbit/s'\", '2020-07-22 08:41:18']\n",
      "[]\n",
      "[\"b'Ping:'\", \"b'21.02'\", \"b'ms'\", \"b'Download:'\", \"b'21.90'\", \"b'Mbit/s'\", \"b'Upload:'\", \"b'4.89'\", \"b'Mbit/s'\", '2020-07-22 08:43:14']\n",
      "[]\n",
      "[\"b'Ping:'\", \"b'16.332'\", \"b'ms'\", \"b'Download:'\", \"b'21.74'\", \"b'Mbit/s'\", \"b'Upload:'\", \"b'4.94'\", \"b'Mbit/s'\", '2020-07-22 08:43:42']\n",
      "[]\n",
      "[\"b'Ping:'\", \"b'25.52'\", \"b'ms'\", \"b'Download:'\", \"b'21.96'\", \"b'Mbit/s'\", \"b'Upload:'\", \"b'4.92'\", \"b'Mbit/s'\", '2020-07-22 08:44:09']\n",
      "[]\n",
      "[\"b'Ping:'\", \"b'23.197'\", \"b'ms'\", \"b'Download:'\", \"b'22.18'\", \"b'Mbit/s'\", \"b'Upload:'\", \"b'4.96'\", \"b'Mbit/s'\", '2020-07-22 08:44:37']\n",
      "[]\n",
      "[\"b'Ping:'\", \"b'21.833'\", \"b'ms'\", \"b'Download:'\", \"b'21.40'\", \"b'Mbit/s'\", \"b'Upload:'\", \"b'4.93'\", \"b'Mbit/s'\", '2020-07-22 08:45:04']\n",
      "[]\n",
      "['Ping:', '17.822', 'ms', 'Download:', '21.88', 'Mbit/s', 'Upload:', '4.73', 'Mbit/s', '2020-07-23 09:21:44']\n",
      "[]\n",
      "['Ping:', '19.694', 'ms', 'Download:', '22.58', 'Mbit/s', 'Upload:', '4.65', 'Mbit/s', '2020-07-23 09:22:12']\n",
      "[]\n",
      "['Ping:', '22.307', 'ms', 'Download:', '22.59', 'Mbit/s', 'Upload:', '5.10', 'Mbit/s', '2020-07-23 09:22:40']\n",
      "[]\n",
      "['Ping:', '19.35', 'ms', 'Download:', '22.58', 'Mbit/s', 'Upload:', '4.51', 'Mbit/s', '2020-07-23 09:23:07']\n",
      "[]\n",
      "['Ping:', '19.068', 'ms', 'Download:', '22.31', 'Mbit/s', 'Upload:', '4.50', 'Mbit/s', '2020-07-23 09:23:33']\n",
      "[]\n",
      "['Ping:', '20.949', 'ms', 'Download:', '21.99', 'Mbit/s', 'Upload:', '4.70', 'Mbit/s', '2020-07-23 09:24:00']\n",
      "[]\n",
      "['Ping:', '23.061', 'ms', 'Download:', '22.04', 'Mbit/s', 'Upload:', '5.04', 'Mbit/s', '2020-07-23 09:24:28']\n",
      "[]\n",
      "['Ping:', '22.86', 'ms', 'Download:', '21.54', 'Mbit/s', 'Upload:', '4.72', 'Mbit/s', '2020-07-23 09:24:55']\n",
      "[]\n",
      "['Ping:', '21.109', 'ms', 'Download:', '21.92', 'Mbit/s', 'Upload:', '4.74', 'Mbit/s', '2020-07-23 09:25:22']\n",
      "[]\n",
      "['Ping:', '90.168', 'ms', 'Download:', '17.44', 'Mbit/s', 'Upload:', '4.91', 'Mbit/s', '2020-07-23 09:25:49']\n",
      "[]\n"
     ]
    }
   ],
   "source": [
    "print_from_csv('rpi_data_test')"
   ]
  },
  {
   "cell_type": "markdown",
   "metadata": {},
   "source": [
    "# Parte dos"
   ]
  },
  {
   "cell_type": "code",
   "execution_count": 18,
   "metadata": {},
   "outputs": [],
   "source": [
    "import pandas as pd\n",
    "import numpy as np"
   ]
  },
  {
   "cell_type": "code",
   "execution_count": 19,
   "metadata": {},
   "outputs": [],
   "source": [
    "data_file = 'rpi_data_long.csv'\n",
    "\n",
    "column_names = [ \n",
    "    'Type A', 'Measure A', 'Units A',\n",
    "    'Type B', 'Measure B', 'Units B',\n",
    "    'Type C', 'Measure C', 'Units C', \n",
    "    'Datetime'\n",
    "    ]\n",
    "\n",
    "with open(data_file, 'r', encoding = 'utf-8') as f:\n",
    "    df_redundant = pd.read_csv(f, names = column_names)"
   ]
  },
  {
   "cell_type": "code",
   "execution_count": 20,
   "metadata": {},
   "outputs": [
    {
     "data": {
      "text/html": [
       "<div>\n",
       "<style scoped>\n",
       "    .dataframe tbody tr th:only-of-type {\n",
       "        vertical-align: middle;\n",
       "    }\n",
       "\n",
       "    .dataframe tbody tr th {\n",
       "        vertical-align: top;\n",
       "    }\n",
       "\n",
       "    .dataframe thead th {\n",
       "        text-align: right;\n",
       "    }\n",
       "</style>\n",
       "<table border=\"1\" class=\"dataframe\">\n",
       "  <thead>\n",
       "    <tr style=\"text-align: right;\">\n",
       "      <th></th>\n",
       "      <th>Type A</th>\n",
       "      <th>Measure A</th>\n",
       "      <th>Units A</th>\n",
       "      <th>Type B</th>\n",
       "      <th>Measure B</th>\n",
       "      <th>Units B</th>\n",
       "      <th>Type C</th>\n",
       "      <th>Measure C</th>\n",
       "      <th>Units C</th>\n",
       "      <th>Datetime</th>\n",
       "    </tr>\n",
       "  </thead>\n",
       "  <tbody>\n",
       "    <tr>\n",
       "      <th>0</th>\n",
       "      <td>Ping:</td>\n",
       "      <td>26.992</td>\n",
       "      <td>ms</td>\n",
       "      <td>Download:</td>\n",
       "      <td>91.80</td>\n",
       "      <td>Mbit/s</td>\n",
       "      <td>Upload:</td>\n",
       "      <td>14.31</td>\n",
       "      <td>Mbit/s</td>\n",
       "      <td>2016-11-24 13:36:25</td>\n",
       "    </tr>\n",
       "    <tr>\n",
       "      <th>1</th>\n",
       "      <td>Ping:</td>\n",
       "      <td>24.532</td>\n",
       "      <td>ms</td>\n",
       "      <td>Download:</td>\n",
       "      <td>88.19</td>\n",
       "      <td>Mbit/s</td>\n",
       "      <td>Upload:</td>\n",
       "      <td>14.12</td>\n",
       "      <td>Mbit/s</td>\n",
       "      <td>2016-11-24 13:36:55</td>\n",
       "    </tr>\n",
       "    <tr>\n",
       "      <th>2</th>\n",
       "      <td>Ping:</td>\n",
       "      <td>20.225</td>\n",
       "      <td>ms</td>\n",
       "      <td>Download:</td>\n",
       "      <td>59.86</td>\n",
       "      <td>Mbit/s</td>\n",
       "      <td>Upload:</td>\n",
       "      <td>14.11</td>\n",
       "      <td>Mbit/s</td>\n",
       "      <td>2016-11-24 13:37:25</td>\n",
       "    </tr>\n",
       "    <tr>\n",
       "      <th>3</th>\n",
       "      <td>Ping:</td>\n",
       "      <td>19.332</td>\n",
       "      <td>ms</td>\n",
       "      <td>Download:</td>\n",
       "      <td>91.81</td>\n",
       "      <td>Mbit/s</td>\n",
       "      <td>Upload:</td>\n",
       "      <td>14.22</td>\n",
       "      <td>Mbit/s</td>\n",
       "      <td>2016-11-24 13:37:57</td>\n",
       "    </tr>\n",
       "    <tr>\n",
       "      <th>4</th>\n",
       "      <td>Ping:</td>\n",
       "      <td>22.494</td>\n",
       "      <td>ms</td>\n",
       "      <td>Download:</td>\n",
       "      <td>92.05</td>\n",
       "      <td>Mbit/s</td>\n",
       "      <td>Upload:</td>\n",
       "      <td>14.08</td>\n",
       "      <td>Mbit/s</td>\n",
       "      <td>2016-11-24 13:38:27</td>\n",
       "    </tr>\n",
       "  </tbody>\n",
       "</table>\n",
       "</div>"
      ],
      "text/plain": [
       "  Type A  Measure A Units A     Type B  Measure B Units B   Type C  Measure C  \\\n",
       "0  Ping:     26.992      ms  Download:      91.80  Mbit/s  Upload:      14.31   \n",
       "1  Ping:     24.532      ms  Download:      88.19  Mbit/s  Upload:      14.12   \n",
       "2  Ping:     20.225      ms  Download:      59.86  Mbit/s  Upload:      14.11   \n",
       "3  Ping:     19.332      ms  Download:      91.81  Mbit/s  Upload:      14.22   \n",
       "4  Ping:     22.494      ms  Download:      92.05  Mbit/s  Upload:      14.08   \n",
       "\n",
       "  Units C             Datetime  \n",
       "0  Mbit/s  2016-11-24 13:36:25  \n",
       "1  Mbit/s  2016-11-24 13:36:55  \n",
       "2  Mbit/s  2016-11-24 13:37:25  \n",
       "3  Mbit/s  2016-11-24 13:37:57  \n",
       "4  Mbit/s  2016-11-24 13:38:27  "
      ]
     },
     "execution_count": 20,
     "metadata": {},
     "output_type": "execute_result"
    }
   ],
   "source": [
    "df_redundant.head()"
   ]
  },
  {
   "cell_type": "code",
   "execution_count": 21,
   "metadata": {},
   "outputs": [],
   "source": [
    "df_compact = df_redundant.copy()"
   ]
  },
  {
   "cell_type": "code",
   "execution_count": 22,
   "metadata": {},
   "outputs": [
    {
     "data": {
      "text/html": [
       "<div>\n",
       "<style scoped>\n",
       "    .dataframe tbody tr th:only-of-type {\n",
       "        vertical-align: middle;\n",
       "    }\n",
       "\n",
       "    .dataframe tbody tr th {\n",
       "        vertical-align: top;\n",
       "    }\n",
       "\n",
       "    .dataframe thead th {\n",
       "        text-align: right;\n",
       "    }\n",
       "</style>\n",
       "<table border=\"1\" class=\"dataframe\">\n",
       "  <thead>\n",
       "    <tr style=\"text-align: right;\">\n",
       "      <th></th>\n",
       "      <th>Type A</th>\n",
       "      <th>Ping (ms)</th>\n",
       "      <th>Units A</th>\n",
       "      <th>Type B</th>\n",
       "      <th>Download (Mbit/s)</th>\n",
       "      <th>Units B</th>\n",
       "      <th>Type C</th>\n",
       "      <th>Upload (Mbit/s)</th>\n",
       "      <th>Units C</th>\n",
       "      <th>Datetime</th>\n",
       "    </tr>\n",
       "  </thead>\n",
       "  <tbody>\n",
       "    <tr>\n",
       "      <th>0</th>\n",
       "      <td>Ping:</td>\n",
       "      <td>26.992</td>\n",
       "      <td>ms</td>\n",
       "      <td>Download:</td>\n",
       "      <td>91.80</td>\n",
       "      <td>Mbit/s</td>\n",
       "      <td>Upload:</td>\n",
       "      <td>14.31</td>\n",
       "      <td>Mbit/s</td>\n",
       "      <td>2016-11-24 13:36:25</td>\n",
       "    </tr>\n",
       "    <tr>\n",
       "      <th>1</th>\n",
       "      <td>Ping:</td>\n",
       "      <td>24.532</td>\n",
       "      <td>ms</td>\n",
       "      <td>Download:</td>\n",
       "      <td>88.19</td>\n",
       "      <td>Mbit/s</td>\n",
       "      <td>Upload:</td>\n",
       "      <td>14.12</td>\n",
       "      <td>Mbit/s</td>\n",
       "      <td>2016-11-24 13:36:55</td>\n",
       "    </tr>\n",
       "    <tr>\n",
       "      <th>2</th>\n",
       "      <td>Ping:</td>\n",
       "      <td>20.225</td>\n",
       "      <td>ms</td>\n",
       "      <td>Download:</td>\n",
       "      <td>59.86</td>\n",
       "      <td>Mbit/s</td>\n",
       "      <td>Upload:</td>\n",
       "      <td>14.11</td>\n",
       "      <td>Mbit/s</td>\n",
       "      <td>2016-11-24 13:37:25</td>\n",
       "    </tr>\n",
       "  </tbody>\n",
       "</table>\n",
       "</div>"
      ],
      "text/plain": [
       "  Type A  Ping (ms) Units A     Type B  Download (Mbit/s) Units B   Type C  \\\n",
       "0  Ping:     26.992      ms  Download:              91.80  Mbit/s  Upload:   \n",
       "1  Ping:     24.532      ms  Download:              88.19  Mbit/s  Upload:   \n",
       "2  Ping:     20.225      ms  Download:              59.86  Mbit/s  Upload:   \n",
       "\n",
       "   Upload (Mbit/s) Units C             Datetime  \n",
       "0            14.31  Mbit/s  2016-11-24 13:36:25  \n",
       "1            14.12  Mbit/s  2016-11-24 13:36:55  \n",
       "2            14.11  Mbit/s  2016-11-24 13:37:25  "
      ]
     },
     "execution_count": 22,
     "metadata": {},
     "output_type": "execute_result"
    }
   ],
   "source": [
    "df_compact.rename(columns={'Measure A':'Ping (ms)', \n",
    "                           'Measure B': 'Download (Mbit/s)',\n",
    "                           'Measure C': 'Upload (Mbit/s)'}, inplace=True)\n",
    "df_compact.head(3)"
   ]
  },
  {
   "cell_type": "code",
   "execution_count": 23,
   "metadata": {},
   "outputs": [
    {
     "data": {
      "text/html": [
       "<div>\n",
       "<style scoped>\n",
       "    .dataframe tbody tr th:only-of-type {\n",
       "        vertical-align: middle;\n",
       "    }\n",
       "\n",
       "    .dataframe tbody tr th {\n",
       "        vertical-align: top;\n",
       "    }\n",
       "\n",
       "    .dataframe thead th {\n",
       "        text-align: right;\n",
       "    }\n",
       "</style>\n",
       "<table border=\"1\" class=\"dataframe\">\n",
       "  <thead>\n",
       "    <tr style=\"text-align: right;\">\n",
       "      <th></th>\n",
       "      <th>Ping (ms)</th>\n",
       "      <th>Download (Mbit/s)</th>\n",
       "      <th>Upload (Mbit/s)</th>\n",
       "      <th>Datetime</th>\n",
       "    </tr>\n",
       "  </thead>\n",
       "  <tbody>\n",
       "    <tr>\n",
       "      <th>0</th>\n",
       "      <td>26.992</td>\n",
       "      <td>91.80</td>\n",
       "      <td>14.31</td>\n",
       "      <td>2016-11-24 13:36:25</td>\n",
       "    </tr>\n",
       "    <tr>\n",
       "      <th>1</th>\n",
       "      <td>24.532</td>\n",
       "      <td>88.19</td>\n",
       "      <td>14.12</td>\n",
       "      <td>2016-11-24 13:36:55</td>\n",
       "    </tr>\n",
       "    <tr>\n",
       "      <th>2</th>\n",
       "      <td>20.225</td>\n",
       "      <td>59.86</td>\n",
       "      <td>14.11</td>\n",
       "      <td>2016-11-24 13:37:25</td>\n",
       "    </tr>\n",
       "    <tr>\n",
       "      <th>3</th>\n",
       "      <td>19.332</td>\n",
       "      <td>91.81</td>\n",
       "      <td>14.22</td>\n",
       "      <td>2016-11-24 13:37:57</td>\n",
       "    </tr>\n",
       "    <tr>\n",
       "      <th>4</th>\n",
       "      <td>22.494</td>\n",
       "      <td>92.05</td>\n",
       "      <td>14.08</td>\n",
       "      <td>2016-11-24 13:38:27</td>\n",
       "    </tr>\n",
       "    <tr>\n",
       "      <th>5</th>\n",
       "      <td>17.586</td>\n",
       "      <td>91.88</td>\n",
       "      <td>14.18</td>\n",
       "      <td>2016-11-24 13:39:01</td>\n",
       "    </tr>\n",
       "    <tr>\n",
       "      <th>6</th>\n",
       "      <td>21.835</td>\n",
       "      <td>92.18</td>\n",
       "      <td>14.07</td>\n",
       "      <td>2016-11-24 13:39:30</td>\n",
       "    </tr>\n",
       "    <tr>\n",
       "      <th>7</th>\n",
       "      <td>20.464</td>\n",
       "      <td>92.05</td>\n",
       "      <td>14.13</td>\n",
       "      <td>2016-11-24 13:40:00</td>\n",
       "    </tr>\n",
       "    <tr>\n",
       "      <th>8</th>\n",
       "      <td>19.293</td>\n",
       "      <td>90.79</td>\n",
       "      <td>14.14</td>\n",
       "      <td>2016-11-24 13:40:30</td>\n",
       "    </tr>\n",
       "    <tr>\n",
       "      <th>9</th>\n",
       "      <td>20.354</td>\n",
       "      <td>92.64</td>\n",
       "      <td>14.07</td>\n",
       "      <td>2016-11-24 13:41:00</td>\n",
       "    </tr>\n",
       "    <tr>\n",
       "      <th>10</th>\n",
       "      <td>19.010</td>\n",
       "      <td>91.86</td>\n",
       "      <td>14.38</td>\n",
       "      <td>2016-11-24 13:41:30</td>\n",
       "    </tr>\n",
       "    <tr>\n",
       "      <th>11</th>\n",
       "      <td>18.092</td>\n",
       "      <td>92.24</td>\n",
       "      <td>14.23</td>\n",
       "      <td>2016-11-24 13:42:00</td>\n",
       "    </tr>\n",
       "    <tr>\n",
       "      <th>12</th>\n",
       "      <td>18.137</td>\n",
       "      <td>91.64</td>\n",
       "      <td>14.32</td>\n",
       "      <td>2016-11-24 13:42:30</td>\n",
       "    </tr>\n",
       "    <tr>\n",
       "      <th>13</th>\n",
       "      <td>18.344</td>\n",
       "      <td>92.85</td>\n",
       "      <td>14.20</td>\n",
       "      <td>2016-11-24 13:43:00</td>\n",
       "    </tr>\n",
       "    <tr>\n",
       "      <th>14</th>\n",
       "      <td>23.328</td>\n",
       "      <td>92.21</td>\n",
       "      <td>14.20</td>\n",
       "      <td>2016-11-24 13:43:29</td>\n",
       "    </tr>\n",
       "    <tr>\n",
       "      <th>15</th>\n",
       "      <td>17.908</td>\n",
       "      <td>92.24</td>\n",
       "      <td>11.36</td>\n",
       "      <td>2016-11-24 13:43:59</td>\n",
       "    </tr>\n",
       "    <tr>\n",
       "      <th>16</th>\n",
       "      <td>19.291</td>\n",
       "      <td>92.41</td>\n",
       "      <td>14.03</td>\n",
       "      <td>2016-11-24 13:44:31</td>\n",
       "    </tr>\n",
       "    <tr>\n",
       "      <th>17</th>\n",
       "      <td>20.117</td>\n",
       "      <td>90.39</td>\n",
       "      <td>14.17</td>\n",
       "      <td>2016-11-24 13:45:01</td>\n",
       "    </tr>\n",
       "    <tr>\n",
       "      <th>18</th>\n",
       "      <td>19.579</td>\n",
       "      <td>92.55</td>\n",
       "      <td>14.06</td>\n",
       "      <td>2016-11-24 13:45:32</td>\n",
       "    </tr>\n",
       "    <tr>\n",
       "      <th>19</th>\n",
       "      <td>16.364</td>\n",
       "      <td>78.51</td>\n",
       "      <td>13.71</td>\n",
       "      <td>2016-11-24 13:46:02</td>\n",
       "    </tr>\n",
       "  </tbody>\n",
       "</table>\n",
       "</div>"
      ],
      "text/plain": [
       "    Ping (ms)  Download (Mbit/s)  Upload (Mbit/s)             Datetime\n",
       "0      26.992              91.80            14.31  2016-11-24 13:36:25\n",
       "1      24.532              88.19            14.12  2016-11-24 13:36:55\n",
       "2      20.225              59.86            14.11  2016-11-24 13:37:25\n",
       "3      19.332              91.81            14.22  2016-11-24 13:37:57\n",
       "4      22.494              92.05            14.08  2016-11-24 13:38:27\n",
       "5      17.586              91.88            14.18  2016-11-24 13:39:01\n",
       "6      21.835              92.18            14.07  2016-11-24 13:39:30\n",
       "7      20.464              92.05            14.13  2016-11-24 13:40:00\n",
       "8      19.293              90.79            14.14  2016-11-24 13:40:30\n",
       "9      20.354              92.64            14.07  2016-11-24 13:41:00\n",
       "10     19.010              91.86            14.38  2016-11-24 13:41:30\n",
       "11     18.092              92.24            14.23  2016-11-24 13:42:00\n",
       "12     18.137              91.64            14.32  2016-11-24 13:42:30\n",
       "13     18.344              92.85            14.20  2016-11-24 13:43:00\n",
       "14     23.328              92.21            14.20  2016-11-24 13:43:29\n",
       "15     17.908              92.24            11.36  2016-11-24 13:43:59\n",
       "16     19.291              92.41            14.03  2016-11-24 13:44:31\n",
       "17     20.117              90.39            14.17  2016-11-24 13:45:01\n",
       "18     19.579              92.55            14.06  2016-11-24 13:45:32\n",
       "19     16.364              78.51            13.71  2016-11-24 13:46:02"
      ]
     },
     "execution_count": 23,
     "metadata": {},
     "output_type": "execute_result"
    }
   ],
   "source": [
    "df_compact.drop(['Type A', 'Type B', 'Type C',\n",
    "         'Units A', 'Units B', 'Units C'], axis=1, inplace=True)\n",
    "\n",
    "df_compact.head(20)"
   ]
  },
  {
   "cell_type": "code",
   "execution_count": 24,
   "metadata": {},
   "outputs": [],
   "source": [
    "df_compact['Date'] = df_compact['Datetime'].apply(lambda dt_str: pd.to_datetime(dt_str).date())"
   ]
  },
  {
   "cell_type": "code",
   "execution_count": 25,
   "metadata": {},
   "outputs": [],
   "source": [
    "df_compact['Time'] = df_compact['Datetime'].apply(lambda dt_str: pd.to_datetime(dt_str).time())"
   ]
  },
  {
   "cell_type": "code",
   "execution_count": 26,
   "metadata": {},
   "outputs": [
    {
     "data": {
      "text/html": [
       "<div>\n",
       "<style scoped>\n",
       "    .dataframe tbody tr th:only-of-type {\n",
       "        vertical-align: middle;\n",
       "    }\n",
       "\n",
       "    .dataframe tbody tr th {\n",
       "        vertical-align: top;\n",
       "    }\n",
       "\n",
       "    .dataframe thead th {\n",
       "        text-align: right;\n",
       "    }\n",
       "</style>\n",
       "<table border=\"1\" class=\"dataframe\">\n",
       "  <thead>\n",
       "    <tr style=\"text-align: right;\">\n",
       "      <th></th>\n",
       "      <th>Ping (ms)</th>\n",
       "      <th>Download (Mbit/s)</th>\n",
       "      <th>Upload (Mbit/s)</th>\n",
       "      <th>Date</th>\n",
       "      <th>Time</th>\n",
       "    </tr>\n",
       "  </thead>\n",
       "  <tbody>\n",
       "    <tr>\n",
       "      <th>0</th>\n",
       "      <td>26.992</td>\n",
       "      <td>91.80</td>\n",
       "      <td>14.31</td>\n",
       "      <td>2016-11-24</td>\n",
       "      <td>13:36:25</td>\n",
       "    </tr>\n",
       "    <tr>\n",
       "      <th>1</th>\n",
       "      <td>24.532</td>\n",
       "      <td>88.19</td>\n",
       "      <td>14.12</td>\n",
       "      <td>2016-11-24</td>\n",
       "      <td>13:36:55</td>\n",
       "    </tr>\n",
       "    <tr>\n",
       "      <th>2</th>\n",
       "      <td>20.225</td>\n",
       "      <td>59.86</td>\n",
       "      <td>14.11</td>\n",
       "      <td>2016-11-24</td>\n",
       "      <td>13:37:25</td>\n",
       "    </tr>\n",
       "  </tbody>\n",
       "</table>\n",
       "</div>"
      ],
      "text/plain": [
       "   Ping (ms)  Download (Mbit/s)  Upload (Mbit/s)        Date      Time\n",
       "0     26.992              91.80            14.31  2016-11-24  13:36:25\n",
       "1     24.532              88.19            14.12  2016-11-24  13:36:55\n",
       "2     20.225              59.86            14.11  2016-11-24  13:37:25"
      ]
     },
     "execution_count": 26,
     "metadata": {},
     "output_type": "execute_result"
    }
   ],
   "source": [
    "df_compact.drop(['Datetime'], axis=1, inplace=True)\n",
    "\n",
    "df_compact.head(3)"
   ]
  },
  {
   "cell_type": "code",
   "execution_count": 27,
   "metadata": {
    "tags": []
   },
   "outputs": [
    {
     "name": "stdout",
     "output_type": "stream",
     "text": [
      "2016-11-24 <class 'datetime.date'>\n",
      "13:36:25 <class 'datetime.time'>\n"
     ]
    }
   ],
   "source": [
    "print(df_compact['Date'][0], type(df_compact['Date'][0]) )\n",
    "print(df_compact['Time'][0], type(df_compact['Time'][0]) )"
   ]
  },
  {
   "cell_type": "code",
   "execution_count": 29,
   "metadata": {},
   "outputs": [],
   "source": [
    "df_compact.to_csv('rpi_data_compact.csv')"
   ]
  },
  {
   "cell_type": "code",
   "execution_count": null,
   "metadata": {},
   "outputs": [],
   "source": []
  }
 ],
 "metadata": {
  "kernelspec": {
   "display_name": "Python 3",
   "language": "python",
   "name": "python3"
  },
  "language_info": {
   "codemirror_mode": {
    "name": "ipython",
    "version": 3
   },
   "file_extension": ".py",
   "mimetype": "text/x-python",
   "name": "python",
   "nbconvert_exporter": "python",
   "pygments_lexer": "ipython3",
   "version": "3.7.4"
  }
 },
 "nbformat": 4,
 "nbformat_minor": 4
}
